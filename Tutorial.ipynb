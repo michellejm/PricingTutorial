{
 "cells": [
  {
   "cell_type": "markdown",
   "metadata": {},
   "source": [
    "This is based on a tutorial from Susan Li, [published on Medium](https://towardsdatascience.com/sales-forecasting-with-price-promotion-effects-b5d70207b128). The purpose is to \"analyze the historical data using time series analysis techniques, with promotion effect.\"\n",
    "\n",
    "My goal is to learn how to apply time series to questions around pricing"
   ]
  },
  {
   "cell_type": "code",
   "execution_count": 4,
   "metadata": {},
   "outputs": [],
   "source": [
    "import pandas as pd\n",
    "import numpy as np"
   ]
  },
  {
   "cell_type": "code",
   "execution_count": 5,
   "metadata": {},
   "outputs": [],
   "source": [
    "df = pd.read_csv(\"Sales_Product_Price_by_Store.csv\")"
   ]
  },
  {
   "cell_type": "markdown",
   "metadata": {},
   "source": [
    "Just getting a sense of what is in this dataset"
   ]
  },
  {
   "cell_type": "code",
   "execution_count": 8,
   "metadata": {},
   "outputs": [
    {
     "data": {
      "text/html": [
       "<div>\n",
       "<style scoped>\n",
       "    .dataframe tbody tr th:only-of-type {\n",
       "        vertical-align: middle;\n",
       "    }\n",
       "\n",
       "    .dataframe tbody tr th {\n",
       "        vertical-align: top;\n",
       "    }\n",
       "\n",
       "    .dataframe thead th {\n",
       "        text-align: right;\n",
       "    }\n",
       "</style>\n",
       "<table border=\"1\" class=\"dataframe\">\n",
       "  <thead>\n",
       "    <tr style=\"text-align: right;\">\n",
       "      <th></th>\n",
       "      <th>Store</th>\n",
       "      <th>Product</th>\n",
       "      <th>Date</th>\n",
       "      <th>Is_Holiday</th>\n",
       "      <th>Base Price</th>\n",
       "      <th>Price</th>\n",
       "      <th>Weekly_Units_Sold</th>\n",
       "    </tr>\n",
       "  </thead>\n",
       "  <tbody>\n",
       "    <tr>\n",
       "      <th>0</th>\n",
       "      <td>1</td>\n",
       "      <td>1</td>\n",
       "      <td>2/5/2010</td>\n",
       "      <td>False</td>\n",
       "      <td>9.99</td>\n",
       "      <td>7.99</td>\n",
       "      <td>245</td>\n",
       "    </tr>\n",
       "    <tr>\n",
       "      <th>1</th>\n",
       "      <td>1</td>\n",
       "      <td>1</td>\n",
       "      <td>2/12/2010</td>\n",
       "      <td>True</td>\n",
       "      <td>9.99</td>\n",
       "      <td>7.99</td>\n",
       "      <td>453</td>\n",
       "    </tr>\n",
       "    <tr>\n",
       "      <th>2</th>\n",
       "      <td>1</td>\n",
       "      <td>1</td>\n",
       "      <td>2/19/2010</td>\n",
       "      <td>False</td>\n",
       "      <td>9.99</td>\n",
       "      <td>7.99</td>\n",
       "      <td>409</td>\n",
       "    </tr>\n",
       "    <tr>\n",
       "      <th>3</th>\n",
       "      <td>1</td>\n",
       "      <td>1</td>\n",
       "      <td>2/26/2010</td>\n",
       "      <td>False</td>\n",
       "      <td>9.99</td>\n",
       "      <td>7.99</td>\n",
       "      <td>191</td>\n",
       "    </tr>\n",
       "    <tr>\n",
       "      <th>4</th>\n",
       "      <td>1</td>\n",
       "      <td>1</td>\n",
       "      <td>3/5/2010</td>\n",
       "      <td>False</td>\n",
       "      <td>9.99</td>\n",
       "      <td>9.99</td>\n",
       "      <td>145</td>\n",
       "    </tr>\n",
       "  </tbody>\n",
       "</table>\n",
       "</div>"
      ],
      "text/plain": [
       "   Store  Product       Date  Is_Holiday  Base Price  Price  Weekly_Units_Sold\n",
       "0      1        1   2/5/2010       False        9.99   7.99                245\n",
       "1      1        1  2/12/2010        True        9.99   7.99                453\n",
       "2      1        1  2/19/2010       False        9.99   7.99                409\n",
       "3      1        1  2/26/2010       False        9.99   7.99                191\n",
       "4      1        1   3/5/2010       False        9.99   9.99                145"
      ]
     },
     "execution_count": 8,
     "metadata": {},
     "output_type": "execute_result"
    }
   ],
   "source": [
    "df.head()"
   ]
  },
  {
   "cell_type": "code",
   "execution_count": 9,
   "metadata": {},
   "outputs": [
    {
     "name": "stdout",
     "output_type": "stream",
     "text": [
      "<class 'pandas.core.frame.DataFrame'>\n",
      "RangeIndex: 3861 entries, 0 to 3860\n",
      "Data columns (total 7 columns):\n",
      " #   Column             Non-Null Count  Dtype  \n",
      "---  ------             --------------  -----  \n",
      " 0   Store              3861 non-null   int64  \n",
      " 1   Product            3861 non-null   int64  \n",
      " 2   Date               3861 non-null   object \n",
      " 3   Is_Holiday         3861 non-null   bool   \n",
      " 4   Base Price         3861 non-null   float64\n",
      " 5   Price              3861 non-null   float64\n",
      " 6   Weekly_Units_Sold  3861 non-null   int64  \n",
      "dtypes: bool(1), float64(2), int64(3), object(1)\n",
      "memory usage: 184.9+ KB\n"
     ]
    }
   ],
   "source": [
    "df.info()"
   ]
  },
  {
   "cell_type": "code",
   "execution_count": 16,
   "metadata": {},
   "outputs": [
    {
     "data": {
      "text/html": [
       "<div>\n",
       "<style scoped>\n",
       "    .dataframe tbody tr th:only-of-type {\n",
       "        vertical-align: middle;\n",
       "    }\n",
       "\n",
       "    .dataframe tbody tr th {\n",
       "        vertical-align: top;\n",
       "    }\n",
       "\n",
       "    .dataframe thead th {\n",
       "        text-align: right;\n",
       "    }\n",
       "</style>\n",
       "<table border=\"1\" class=\"dataframe\">\n",
       "  <thead>\n",
       "    <tr style=\"text-align: right;\">\n",
       "      <th></th>\n",
       "      <th>Product</th>\n",
       "      <th>Is_Holiday</th>\n",
       "      <th>Base Price</th>\n",
       "      <th>Price</th>\n",
       "      <th>Weekly_Units_Sold</th>\n",
       "    </tr>\n",
       "    <tr>\n",
       "      <th>Store</th>\n",
       "      <th></th>\n",
       "      <th></th>\n",
       "      <th></th>\n",
       "      <th></th>\n",
       "      <th></th>\n",
       "    </tr>\n",
       "  </thead>\n",
       "  <tbody>\n",
       "    <tr>\n",
       "      <th>1</th>\n",
       "      <td>2.0</td>\n",
       "      <td>0.06993</td>\n",
       "      <td>12.554103</td>\n",
       "      <td>11.766084</td>\n",
       "      <td>202.095571</td>\n",
       "    </tr>\n",
       "    <tr>\n",
       "      <th>2</th>\n",
       "      <td>2.0</td>\n",
       "      <td>0.06993</td>\n",
       "      <td>12.554103</td>\n",
       "      <td>11.766084</td>\n",
       "      <td>283.135198</td>\n",
       "    </tr>\n",
       "    <tr>\n",
       "      <th>3</th>\n",
       "      <td>2.0</td>\n",
       "      <td>0.06993</td>\n",
       "      <td>12.554103</td>\n",
       "      <td>11.766084</td>\n",
       "      <td>73.867133</td>\n",
       "    </tr>\n",
       "    <tr>\n",
       "      <th>4</th>\n",
       "      <td>2.0</td>\n",
       "      <td>0.06993</td>\n",
       "      <td>12.554103</td>\n",
       "      <td>11.766084</td>\n",
       "      <td>369.972028</td>\n",
       "    </tr>\n",
       "    <tr>\n",
       "      <th>5</th>\n",
       "      <td>2.0</td>\n",
       "      <td>0.06993</td>\n",
       "      <td>12.554103</td>\n",
       "      <td>11.766084</td>\n",
       "      <td>63.636364</td>\n",
       "    </tr>\n",
       "    <tr>\n",
       "      <th>6</th>\n",
       "      <td>2.0</td>\n",
       "      <td>0.06993</td>\n",
       "      <td>12.554103</td>\n",
       "      <td>11.766084</td>\n",
       "      <td>227.734266</td>\n",
       "    </tr>\n",
       "    <tr>\n",
       "      <th>7</th>\n",
       "      <td>2.0</td>\n",
       "      <td>0.06993</td>\n",
       "      <td>12.554103</td>\n",
       "      <td>11.766084</td>\n",
       "      <td>102.627040</td>\n",
       "    </tr>\n",
       "    <tr>\n",
       "      <th>8</th>\n",
       "      <td>2.0</td>\n",
       "      <td>0.06993</td>\n",
       "      <td>12.554103</td>\n",
       "      <td>11.766084</td>\n",
       "      <td>152.151515</td>\n",
       "    </tr>\n",
       "    <tr>\n",
       "      <th>10</th>\n",
       "      <td>2.0</td>\n",
       "      <td>0.06993</td>\n",
       "      <td>12.554103</td>\n",
       "      <td>11.766084</td>\n",
       "      <td>468.354312</td>\n",
       "    </tr>\n",
       "  </tbody>\n",
       "</table>\n",
       "</div>"
      ],
      "text/plain": [
       "       Product  Is_Holiday  Base Price      Price  Weekly_Units_Sold\n",
       "Store                                                               \n",
       "1          2.0     0.06993   12.554103  11.766084         202.095571\n",
       "2          2.0     0.06993   12.554103  11.766084         283.135198\n",
       "3          2.0     0.06993   12.554103  11.766084          73.867133\n",
       "4          2.0     0.06993   12.554103  11.766084         369.972028\n",
       "5          2.0     0.06993   12.554103  11.766084          63.636364\n",
       "6          2.0     0.06993   12.554103  11.766084         227.734266\n",
       "7          2.0     0.06993   12.554103  11.766084         102.627040\n",
       "8          2.0     0.06993   12.554103  11.766084         152.151515\n",
       "10         2.0     0.06993   12.554103  11.766084         468.354312"
      ]
     },
     "execution_count": 16,
     "metadata": {},
     "output_type": "execute_result"
    }
   ],
   "source": [
    "#do all the stores sell for the same price?\n",
    "df.groupby(['Store']).mean()"
   ]
  },
  {
   "cell_type": "code",
   "execution_count": null,
   "metadata": {},
   "outputs": [],
   "source": []
  }
 ],
 "metadata": {
  "kernelspec": {
   "display_name": "Python 3",
   "language": "python",
   "name": "python3"
  },
  "language_info": {
   "codemirror_mode": {
    "name": "ipython",
    "version": 3
   },
   "file_extension": ".py",
   "mimetype": "text/x-python",
   "name": "python",
   "nbconvert_exporter": "python",
   "pygments_lexer": "ipython3",
   "version": "3.7.6"
  }
 },
 "nbformat": 4,
 "nbformat_minor": 4
}
